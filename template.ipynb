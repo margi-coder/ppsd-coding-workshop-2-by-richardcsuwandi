{
  "nbformat": 4,
  "nbformat_minor": 0,
  "metadata": {
    "colab": {
      "name": "template.ipynb",
      "provenance": [],
      "collapsed_sections": [
        "g_JFN28MXhl8"
      ],
      "include_colab_link": true
    },
    "kernelspec": {
      "name": "python3",
      "display_name": "Python 3"
    }
  },
  "cells": [
    {
      "cell_type": "markdown",
      "metadata": {
        "id": "view-in-github",
        "colab_type": "text"
      },
      "source": [
        "<a href=\"https://colab.research.google.com/github/richardcsuwandi/ppsd-coding-workshop/blob/main/template.ipynb\" target=\"_parent\"><img src=\"https://colab.research.google.com/assets/colab-badge.svg\" alt=\"Open In Colab\"/></a>"
      ]
    },
    {
      "cell_type": "markdown",
      "metadata": {
        "id": "BWG7W5aiWkAo"
      },
      "source": [
        "# Introduction to Data Analysis with Pandas\r\n",
        "\r\n",
        "By: [Richard Cornelius Suwandi](https://richardcsuwandi.github.io/)\r\n",
        "\r\n",
        "<p align=\"center\">\r\n",
        "  <img src=\"https://upload.wikimedia.org/wikipedia/commons/thumb/e/ed/Pandas_logo.svg/1200px-Pandas_logo.svg.png\" width=300/>\r\n",
        "</p>\r\n"
      ]
    },
    {
      "cell_type": "markdown",
      "metadata": {
        "id": "g_JFN28MXhl8"
      },
      "source": [
        "## Apa itu Pandas?\r\n",
        "Pandas merupakan sebuah package/library dalam Python yang dapat digunakan untuk melakukan analisis, manipulasi, dan pembersihan data. \r\n",
        "\r\n",
        "Pandas juga mendukung pembacaan dan penulisan data dengan berbagai format file (seperti `.txt`, `.csv`, dan `.xlsx`) yang kemudian akan dijadikan sebagai objek Python dengan baris dan kolom yang disebut `DataFrame` seperti gambar berikut:\r\n",
        "\r\n",
        "<p align=\"center\">\r\n",
        "  <img src=\"https://pandas.pydata.org/pandas-docs/stable/_images/01_table_dataframe1.svg\" width=400/>\r\n",
        "</p>"
      ]
    },
    {
      "cell_type": "markdown",
      "metadata": {
        "id": "2iSvGIg8Y-Ts"
      },
      "source": [
        "## Menginstall Pandas\r\n",
        "Pandas secara default tidak tersedia pada modul standar disaat pertama kali instalasi Python dan kita diharuskan untuk melakukan instalasi terlebih dahulu sebelum menggunakan. Untuk dapat menginstall Pandas, kita bisa menjalankan perintah:\r\n",
        "\r\n",
        "`pip install pandas`\r\n",
        "\r\n",
        "Atau dengan menggunakan library Anaconda, kita bisa menginstallnya dengan perintah berikut:\r\n",
        "\r\n",
        "`conda install pandas`"
      ]
    },
    {
      "cell_type": "code",
      "metadata": {
        "id": "_4582huUkLzT"
      },
      "source": [
        "# Menginstall Pandas\r\n",
        "!pip install pandas"
      ],
      "execution_count": null,
      "outputs": []
    },
    {
      "cell_type": "markdown",
      "metadata": {
        "id": "DfZbnHtcgEJO"
      },
      "source": [
        "Note: \n",
        "\n",
        "Dalam Google Colab, beberapa library untuk data science dan machine learning (seperti NumPy, Pandas, Matplotlib, dan Scikit-Learn) sudah terinstalasi secara otomatis sehingga kita dapat langsung menggunakannya."
      ]
    },
    {
      "cell_type": "markdown",
      "metadata": {
        "id": "SBSb5z0-XNT7"
      },
      "source": [
        "## Menggunakan Pandas\r\n",
        "Sebelum kita mulai, mari kita import terlebih dahulu library pandas. Kita melakukan `import pandas as pd` untuk mempermudah penulisan, sehingga kita dapat menulis `pd` sebagai alias dari `pandas`"
      ]
    },
    {
      "cell_type": "code",
      "metadata": {
        "id": "-ttT3MzJWT35"
      },
      "source": [
        "# Import library pandas\r\n",
        "import pandas as pd"
      ],
      "execution_count": null,
      "outputs": []
    },
    {
      "cell_type": "markdown",
      "metadata": {
        "id": "AxUg_dSXcK2Q"
      },
      "source": [
        "### Struktur Data di Pandas\r\n",
        "Pandas memiliki dua tipe struktur data:\r\n",
        "- Series\r\n",
        "- DataFrame\r\n",
        "\r\n",
        "\r\n",
        "#### **Series**\r\n",
        "Series merupakan struktur data dasar dalam Pandas. Series bisa juga diibaratkan sebagai array satu dimensi yang mempunyai index sehingga kita dapat mengontrol index dari setiap elemen tersebut. Tipe data yang bisa ditampung berupa integer, float, dan juga string.\r\n",
        "\r\n",
        "#### **DataFrame**\r\n",
        "DataFrame merupakan array dua dimensi dengan baris dan kolom. Struktur data ini merupakan cara paling standar untuk menyimpan data. Setiap kolom pada DataFrame merupakan objek dari Series, dan baris terdiri dari elemen yang ada pada Series. Baris berguna untuk menyimpan informasi dan kolom untuk menyimpan nama dari informasi tersebut.\r\n",
        "\r\n",
        "Sebagai contoh, berikut adalah perbandingan antara Series dan DataFrame:\r\n",
        "\r\n",
        "<p align=\"center\">\r\n",
        "  <img src=\"https://petruknisme.com/wp-content/uploads/2019/04/series-and-dataframe.width-1200.png\" width=600 />\r\n",
        "</p>"
      ]
    },
    {
      "cell_type": "markdown",
      "metadata": {
        "id": "VckGUKq-e6AV"
      },
      "source": [
        "#### Membuat Series di Pandas\r\n",
        "Series pada Pandas bisa dibuat dengan menggunakan fungsi `pd.Series`. Kita bisa menggunakan Python list ataupun NumPy array sebagai data untuk membuat Series. Berbeda dengan Python list, Series hanya dapat berisi data dengan tipe yang sama"
      ]
    },
    {
      "cell_type": "code",
      "metadata": {
        "id": "h2MZVAMofnJJ"
      },
      "source": [
        "# Series dengan data\r\n",
        "data = [\"a\", \"b\", \"c\", \"d\"]\r\n",
        "series = pd.Series(data)\r\n",
        "series"
      ],
      "execution_count": null,
      "outputs": []
    },
    {
      "cell_type": "markdown",
      "metadata": {
        "id": "IV_vz5iFg4AW"
      },
      "source": [
        "Kita bisa mengakses data pada Series menggunakan indeks seperti halnya pada Python list"
      ]
    },
    {
      "cell_type": "code",
      "metadata": {
        "id": "4lE4ufXXgHFA"
      },
      "source": [
        "# Akses data dengan indeks\r\n",
        "series[0]"
      ],
      "execution_count": null,
      "outputs": []
    },
    {
      "cell_type": "markdown",
      "metadata": {
        "id": "FR5iH807hrqT"
      },
      "source": [
        "Seperti halnya Python list, Pandas juga mendukung operasi slicing dengan format `start:stop:step`"
      ]
    },
    {
      "cell_type": "code",
      "metadata": {
        "id": "NZ3qRhhOinp3"
      },
      "source": [
        "# Data dari indeks 0 hingga 4 dengan step 2\r\n",
        "series[0:4:2]"
      ],
      "execution_count": null,
      "outputs": []
    },
    {
      "cell_type": "code",
      "metadata": {
        "id": "bhyxdIF8h-uO"
      },
      "source": [
        "# Data dari indeks ke-2 dan setelahnya\r\n",
        "series[2:]"
      ],
      "execution_count": null,
      "outputs": []
    },
    {
      "cell_type": "code",
      "metadata": {
        "id": "aSC-r99sikok"
      },
      "source": [
        "# Data sebelum indeks ke-3\r\n",
        "series[:3]"
      ],
      "execution_count": null,
      "outputs": []
    },
    {
      "cell_type": "markdown",
      "metadata": {
        "id": "YbynagsrjK9J"
      },
      "source": [
        "Untuk menampilkan data dengan indeks berbeda, kita bisa menggunakan *multi-indexing*"
      ]
    },
    {
      "cell_type": "code",
      "metadata": {
        "id": "Q3ciJC_FjRGR"
      },
      "source": [
        "# Data pada indeks 0 dan 3\r\n",
        "series[[0,3]]"
      ],
      "execution_count": null,
      "outputs": []
    },
    {
      "cell_type": "markdown",
      "metadata": {
        "id": "CK_R_shpkhh0"
      },
      "source": [
        "#### Membuat DataFrame di Pandas\r\n",
        "DataFrame pada Pandas bisa dibuat dengan menggunakan method `pd.DataFrame`. Kita bisa menggunakan Python dictionary sebagai data untuk membuat DataFrame"
      ]
    },
    {
      "cell_type": "code",
      "metadata": {
        "id": "xUbURRZnk32s"
      },
      "source": [
        "# Membuat DataFrame\r\n",
        "data = {\"Negara\": [\"Indonesia\", \"Jepang\", \"India\"],\r\n",
        "        \"Ibukota\": [\"Jakarta\", \"Tokyo\", \"New Delhi\"]}\r\n",
        "\r\n",
        "df = pd.DataFrame(data)\r\n",
        "df"
      ],
      "execution_count": null,
      "outputs": []
    },
    {
      "cell_type": "markdown",
      "metadata": {
        "id": "Rh6s6-myk17Z"
      },
      "source": [
        "#### **Latihan**\r\n",
        "Gunakan Pandas DataFrame untuk membuat tabel seperi berikut:\r\n",
        "\r\n",
        "|Nama  |Usia|Jenis Kelamin |\r\n",
        "|------|----|-------------|\r\n",
        "|John  |20  |Laki-Laki    |\r\n",
        "|Emily |18  |Perempuan    |\r\n",
        "|Anna  |17  |Perempuan    |\r\n",
        "|Kevin |21  |Laki-Laki    |"
      ]
    },
    {
      "cell_type": "code",
      "metadata": {
        "id": "iB_4o7izmtb_"
      },
      "source": [
        "# Jawaban:\r\n"
      ],
      "execution_count": null,
      "outputs": []
    },
    {
      "cell_type": "markdown",
      "metadata": {
        "id": "5sGnUh0hooVl"
      },
      "source": [
        "### Membaca Data di Pandas\r\n",
        "Kita dapat membaca file dengan menggunakan fungsi `pd.read_<file type>`. Sebagai contoh, untuk membaca file .csv kita dapat menggunakan fungsi `pd.read_csv`\r\n",
        "\r\n",
        "Baca lebih lanjut: https://pandas.pydata.org/pandas-docs/stable/reference/io.html"
      ]
    },
    {
      "cell_type": "markdown",
      "metadata": {
        "id": "OflDz_kUp88f"
      },
      "source": [
        "Kita akan menggunakan data Titanic dari [Kaggle](https://www.kaggle.com/c/titanic/data), yang berisi informasi mengenai penumpang kapal Titanic.\r\n",
        "\r\n",
        "<p align=\"center\">\r\n",
        "  <img src=\"https://miro.medium.com/max/945/1*jbSpcYChTyfeT1fmr9AHAQ.png\" width=600 />\r\n",
        "</p>\r\n",
        "\r\n",
        "Data juga bisa di download melalui GitHub repository untuk coding workshop ini [disini](https://github.com/richardcsuwandi/ppsd-coding-workshop/blob/main/titanic.csv)"
      ]
    },
    {
      "cell_type": "code",
      "metadata": {
        "id": "l9LUwn7invtz"
      },
      "source": [
        "  # Membaca data\r\n",
        "  url = \"https://raw.githubusercontent.com/richardcsuwandi/ppsd-coding-workshop/main/titanic.csv\"\r\n",
        "  df = pd.read_csv(url)\r\n",
        "  df"
      ],
      "execution_count": null,
      "outputs": []
    },
    {
      "cell_type": "markdown",
      "metadata": {
        "id": "1sXCDqTis3ZE"
      },
      "source": [
        "### Melihat Data\r\n",
        "Berikut adalah beberapa fungsi dasar untuk melihat data di Pandas:\r\n",
        "- `head(n)` : Berfungsi untuk melihat data sebanyak n pada baris awal (jika tidak diisi, secara default n = 5).\r\n",
        "- `tail(n)` : Berfungsi untuk melihat data sebanyak n pada baris akhir (jika tidak diisi, secara default n = 5).\r\n",
        "- `shape` : Melihat jumlah baris dan kolom.\r\n",
        "- `info()` : Menampilkan nomor index beserta tipe datanya.\r\n",
        "- `describe()` : Menunjukkan rangkuman statistik seperti rata-rata, median, dll pada kolom."
      ]
    },
    {
      "cell_type": "code",
      "metadata": {
        "id": "JASKw4E5slvS"
      },
      "source": [
        "# Menggunakan head\r\n",
        "df.head()"
      ],
      "execution_count": null,
      "outputs": []
    },
    {
      "cell_type": "code",
      "metadata": {
        "id": "f6u4Zar3tnrw"
      },
      "source": [
        "# Menggunakan tail\r\n",
        "df.tail()"
      ],
      "execution_count": null,
      "outputs": []
    },
    {
      "cell_type": "code",
      "metadata": {
        "id": "FRTvdaeTxsBR"
      },
      "source": [
        "# Menggunakan shape\r\n",
        "df.shape"
      ],
      "execution_count": null,
      "outputs": []
    },
    {
      "cell_type": "code",
      "metadata": {
        "id": "e5lqZa3yxy7X"
      },
      "source": [
        "# Menggunakan info\r\n",
        "df.info()"
      ],
      "execution_count": null,
      "outputs": []
    },
    {
      "cell_type": "code",
      "metadata": {
        "id": "pb9CHdzdu4bs"
      },
      "source": [
        "# Menggunakan describe\r\n",
        "df.describe()"
      ],
      "execution_count": null,
      "outputs": []
    },
    {
      "cell_type": "markdown",
      "metadata": {
        "id": "3v1tyQ_Ex3eA"
      },
      "source": [
        "### Memilih Baris dan Kolom\r\n",
        "\r\n",
        "Terdapat dua metode untuk memilih baris dan kolom di Pandas, yaitu menggunakan `iloc` dan `loc`. Secara singkat, `iloc` memilih data berdasarkan indeks/posisi nya, sedangkan `loc` memilih data berdasarkan dengan labelnya."
      ]
    },
    {
      "cell_type": "markdown",
      "metadata": {
        "id": "r6B4UgLN6N-9"
      },
      "source": [
        "#### iloc\r\n",
        "Kita dapat memilih baris dan kolom dengan `iloc` menggunakan syntax seperti berikut:\r\n",
        "\r\n",
        "`df.iloc[indeks baris, indeks kolom]`"
      ]
    },
    {
      "cell_type": "code",
      "metadata": {
        "id": "gQ6BlbbH6mqo"
      },
      "source": [
        "# Memilih baris dan kolom menggunakan iloc\r\n",
        "df.iloc[0, 1]"
      ],
      "execution_count": null,
      "outputs": []
    },
    {
      "cell_type": "code",
      "metadata": {
        "id": "3ZJv6G8DzMX4"
      },
      "source": [
        "# Memilih baris menggunakan iloc\r\n",
        "df.iloc[0]"
      ],
      "execution_count": null,
      "outputs": []
    },
    {
      "cell_type": "code",
      "metadata": {
        "id": "94eosjBs1zcd"
      },
      "source": [
        "# Memilih kolom menggunakan iloc\r\n",
        "df.iloc[:, 0]"
      ],
      "execution_count": null,
      "outputs": []
    },
    {
      "cell_type": "code",
      "metadata": {
        "id": "2Vdz_ozp7abB"
      },
      "source": [
        "# Memilih beberapa baris dan kolom menggunakan iloc\r\n",
        "df.iloc[0:5, [1,3,4]]"
      ],
      "execution_count": null,
      "outputs": []
    },
    {
      "cell_type": "markdown",
      "metadata": {
        "id": "HP9cTS1K62PK"
      },
      "source": [
        "#### loc\r\n",
        "Kita dapat memilih baris dan kolom dengan `loc` menggunakan syntax seperti berikut:\r\n",
        "\r\n",
        "`df.loc[indeks baris, nama kolom]`"
      ]
    },
    {
      "cell_type": "code",
      "metadata": {
        "id": "v5T2q7la7D3m"
      },
      "source": [
        "# Memilih baris dan kolom menggunakan loc\r\n",
        "df.loc[0, \"Name\"]"
      ],
      "execution_count": null,
      "outputs": []
    },
    {
      "cell_type": "code",
      "metadata": {
        "id": "qTTwHM047Koe"
      },
      "source": [
        "# Memilih kolom menggunakan loc\r\n",
        "df.loc[:, \"Name\"]"
      ],
      "execution_count": null,
      "outputs": []
    },
    {
      "cell_type": "code",
      "metadata": {
        "id": "5VSpEw0C7q7h"
      },
      "source": [
        "# Memilih beberapa baris dan kolom menggunakan loc\r\n",
        "df.loc[0:4, [\"Name\", \"Sex\", \"Age\"]]"
      ],
      "execution_count": null,
      "outputs": []
    },
    {
      "cell_type": "markdown",
      "metadata": {
        "id": "AUQZRcxI8RHh"
      },
      "source": [
        "Note: \r\n",
        "\r\n",
        "`iloc` menggunakan aturan indexing yang sama dengan Python dimana elemen pertama pada range diikutkan sedangkan elemen terakhir tidak diikutkan Sehingga untuk range `0:10`, `iloc` akan memilih  elemen 0,...,9. \r\n",
        "\r\n",
        "Sedangkan, `loc` mengikutsertakan elemen terakhir pada range sehingga untuk range `0:10` yang dipilih adalah elemen 0,...,10."
      ]
    },
    {
      "cell_type": "markdown",
      "metadata": {
        "id": "1oCkgmC09zmQ"
      },
      "source": [
        "#### **Latihan**\r\n",
        "Gunakan `iloc` atau `loc` untuk memilih 100 baris pertama dengan kolom `Name`, `Age`, `Sex` dan `Survived`"
      ]
    },
    {
      "cell_type": "code",
      "metadata": {
        "id": "VULrvmkh-WI4"
      },
      "source": [
        "# Jawaban:\r\n"
      ],
      "execution_count": null,
      "outputs": []
    },
    {
      "cell_type": "markdown",
      "metadata": {
        "id": "6Ib14JIw_VrZ"
      },
      "source": [
        "### Memfilter Data di Pandas\r\n",
        "Kita bisa memfilter atau memilih data berdasarkan kondisi. Beberapa orang menyebutnya *Boolean Selection* atau *Boolean Indexing* karena kita menggunakan logika yang sama seperti ketika kita ingin membuat kondisi pada if else."
      ]
    },
    {
      "cell_type": "code",
      "metadata": {
        "id": "PFsSglIZB0p6"
      },
      "source": [
        "# Data dengan jenis kelamin female\r\n",
        "df[\"Sex\"] == \"female\""
      ],
      "execution_count": null,
      "outputs": []
    },
    {
      "cell_type": "code",
      "metadata": {
        "id": "QYPLi-sF_VKQ"
      },
      "source": [
        "# Memfilter data berdasarkan jenis kelamin\r\n",
        "kondisi = df[\"Sex\"] == \"female\"\r\n",
        "df[kondisi]"
      ],
      "execution_count": null,
      "outputs": []
    },
    {
      "cell_type": "code",
      "metadata": {
        "id": "t85_CppGA7MH"
      },
      "source": [
        "# Memfilter data berdasarkan usia\r\n",
        "kondisi = df[\"Age\"] > 20\r\n",
        "df[kondisi]"
      ],
      "execution_count": null,
      "outputs": []
    },
    {
      "cell_type": "markdown",
      "metadata": {
        "id": "HhR2W9N_B8b6"
      },
      "source": [
        "Kita juga dapat menggunakan lebih dari satu kondisi:\r\n",
        "- Simbol `&` untuk `dan`\r\n",
        "- Simbol `|` untuk `atau`"
      ]
    },
    {
      "cell_type": "code",
      "metadata": {
        "id": "6TEeewjVBEw3"
      },
      "source": [
        "# Memfilter data berdasarkan jenis kelamin dan usia\r\n",
        "kondisi = (df[\"Sex\"] == \"female\") & (df[\"Age\"] > 20)\r\n",
        "df[kondisi]"
      ],
      "execution_count": null,
      "outputs": []
    },
    {
      "cell_type": "markdown",
      "metadata": {
        "id": "T9kCM6sADAcY"
      },
      "source": [
        "Kita dapat menggunakan fungsi `isin` untuk memilih data yang nilainya terdapat dalam sebuah list."
      ]
    },
    {
      "cell_type": "code",
      "metadata": {
        "id": "tl6dm9MoDbdO"
      },
      "source": [
        "# Menggunakan isin\r\n",
        "kondisi = df[\"Pclass\"].isin([1, 2])\r\n",
        "df[kondisi]"
      ],
      "execution_count": null,
      "outputs": []
    },
    {
      "cell_type": "markdown",
      "metadata": {
        "id": "e7mJzdZANQSd"
      },
      "source": [
        "#### Sorting dan Grouping\r\n",
        "Kita melakukan sorting data dengan menggunakan function `sort_values` pada Pandas "
      ]
    },
    {
      "cell_type": "code",
      "metadata": {
        "id": "nPLIf_r0OEaC"
      },
      "source": [
        "# Sort data berdasarkan 1 kolom\r\n",
        "df.sort_values(by = \"Fare\")"
      ],
      "execution_count": null,
      "outputs": []
    },
    {
      "cell_type": "markdown",
      "metadata": {
        "id": "j9OWeB57Pbh7"
      },
      "source": [
        "Secara default, data akan diurutkan dari nilai yang rendah ke tinggi (secara ascending). Akan tetapi, kita juga dapat mengurutkan data dari tinggi ke rendah (descending) dengan cara menambahkan argumen `ascending = False`"
      ]
    },
    {
      "cell_type": "code",
      "metadata": {
        "id": "Y0v-kOCzPAhx"
      },
      "source": [
        "# Sort data secara descending\r\n",
        "df.sort_values(by=\"Fare\", ascending=False) "
      ],
      "execution_count": null,
      "outputs": []
    },
    {
      "cell_type": "code",
      "metadata": {
        "id": "IsgXn-OtQhHc"
      },
      "source": [
        "# Sort data berdasarkan beberapa kolom\r\n",
        "df.sort_values(by=[\"Age\", \"Fare\"], ascending=False)"
      ],
      "execution_count": null,
      "outputs": []
    },
    {
      "cell_type": "markdown",
      "metadata": {
        "id": "c95AAtxMRSFN"
      },
      "source": [
        "Di Pandas, kita juga dapat melakukan pengelompokan data berdasarkan kolom tertentu menggunakan fungsi `groupby`"
      ]
    },
    {
      "cell_type": "code",
      "metadata": {
        "id": "lHRwyL9sRKDv"
      },
      "source": [
        "# Grouping berdasarkan jenis kelamin\r\n",
        "df_by_sex = df.groupby(\"Sex\")\r\n",
        "df_by_sex"
      ],
      "execution_count": null,
      "outputs": []
    },
    {
      "cell_type": "markdown",
      "metadata": {
        "id": "iC6hR0rARr4K"
      },
      "source": [
        "Setelah melakukan grouping, kita akan mendapatkan `DataFrameGroupBy object` yang dapat kita gunakan untuk melakukan berbagai analisis dan perhitungan statistik"
      ]
    },
    {
      "cell_type": "code",
      "metadata": {
        "id": "PJvjewidRrAv"
      },
      "source": [
        "# Menghitung jumlah dengan size\r\n",
        "df_by_sex.size()"
      ],
      "execution_count": null,
      "outputs": []
    },
    {
      "cell_type": "code",
      "metadata": {
        "id": "EoHSq6Kgo8Yi"
      },
      "source": [
        "# Menghitung jumlah dengan count\r\n",
        "df_by_sex.count()"
      ],
      "execution_count": null,
      "outputs": []
    },
    {
      "cell_type": "code",
      "metadata": {
        "id": "o4FXJVkCSrsI"
      },
      "source": [
        "# Menghitung rata-rata masing-masing kategori\r\n",
        "df_by_sex.mean()"
      ],
      "execution_count": null,
      "outputs": []
    },
    {
      "cell_type": "code",
      "metadata": {
        "id": "U6vxknKMUR32"
      },
      "source": [
        "# Menghitung nilai maksimum\r\n",
        "df_by_sex[\"Age\"].max()"
      ],
      "execution_count": null,
      "outputs": []
    },
    {
      "cell_type": "code",
      "metadata": {
        "id": "5kgYI35GUsyk"
      },
      "source": [
        "# Menghitung nilai minimum\r\n",
        "df_by_sex[\"Age\"].min()"
      ],
      "execution_count": null,
      "outputs": []
    },
    {
      "cell_type": "markdown",
      "metadata": {
        "id": "TppXCZ9dWs3G"
      },
      "source": [
        "Kita juga dapat melakukan beberapa perhitungan sekaligus menggunakan fungsi `agg`"
      ]
    },
    {
      "cell_type": "code",
      "metadata": {
        "id": "tXMFeut8VFSY"
      },
      "source": [
        "# Menggunakan agg\r\n",
        "df_by_sex[\"Age\"].agg([\"mean\", \"max\", \"min\"])"
      ],
      "execution_count": null,
      "outputs": []
    },
    {
      "cell_type": "markdown",
      "metadata": {
        "id": "2JuyttDUcVcD"
      },
      "source": [
        "#### **Latihan**\r\n",
        "Berapakah nilai minimum, maksimum, dan rata-rata usia untuk setiap kategori `Pclass`?"
      ]
    },
    {
      "cell_type": "code",
      "metadata": {
        "id": "F0QIDi9yc0zf"
      },
      "source": [
        "# Jawaban:\r\n"
      ],
      "execution_count": null,
      "outputs": []
    },
    {
      "cell_type": "markdown",
      "metadata": {
        "id": "KoVGN3Irso1N"
      },
      "source": [
        "### Visualisasi Data di Pandas\n",
        "Kita juga dapat melakukan data visualisasi di Pandas yang didukung oleh library [Matplotlib](https://matplotlib.org).\n",
        "\n",
        "Dengan fungsi `plot`, kita dapat menghasilkan berbagai jenis visualisasi data melalui argumen `kind` sebagai berikut:\n",
        "\n",
        "- \"bar\" untuk bar chart (vertikal)\n",
        "- \"barh\" untuk bar chart (horizontal)\n",
        "- \"pie\" untuk pie chart\n",
        "- \"hist\" untuk histogram\n",
        "- \"box\" untuk box plot\n",
        "\n",
        "List lebih lengkap dapat dilihat disini: https://pandas.pydata.org/pandas-docs/stable/user_guide/visualization.html"
      ]
    },
    {
      "cell_type": "code",
      "metadata": {
        "id": "7ne7HQuLVNx1"
      },
      "source": [
        "# Membuat bar chart (vertikal)\n",
        "df.groupby(\"Pclass\").count()[\"Name\"].plot(kind=\"bar\")"
      ],
      "execution_count": null,
      "outputs": []
    },
    {
      "cell_type": "markdown",
      "metadata": {
        "id": "LZgVNMDAtfEW"
      },
      "source": [
        "Salah satu fungsi lain yang berguna untuk plotting adalah `value_counts`. Dengan fungsi ini, kita dapat dengan mudah memperoleh jumlah observasi berdasarkan kategori/kolom tertentu"
      ]
    },
    {
      "cell_type": "code",
      "metadata": {
        "id": "a12hp-JcuFg9"
      },
      "source": [
        "# Menggunakan value_counts\r\n",
        "df[\"Pclass\"].value_counts()"
      ],
      "execution_count": null,
      "outputs": []
    },
    {
      "cell_type": "markdown",
      "metadata": {
        "id": "tm4gOiKbbl3V"
      },
      "source": [
        "Kita juga dapat memberi keterangan seperti judul dan label untuk sumbu x dan y dengan menambahkan argumen `title`, `xlabel`, dan `ylabel`"
      ]
    },
    {
      "cell_type": "code",
      "metadata": {
        "id": "7IVnPtMjb5O3"
      },
      "source": [
        "# Menambahkan title, xlabel, dan ylabel\n",
        "df[\"Pclass\"].value_counts().plot(kind=\"bar\",\n",
        "                                 title=\"Jumlah Penumpang Berdasarkan Pclass\",\n",
        "                                 xlabel=\"Pclass\",\n",
        "                                 ylabel=\"Jumlah\")"
      ],
      "execution_count": null,
      "outputs": []
    },
    {
      "cell_type": "code",
      "metadata": {
        "id": "kfL9DLTdVp8N"
      },
      "source": [
        "# Membuat bar chart (horizontal) \n",
        "df[\"Pclass\"].value_counts().plot(kind=\"barh\")"
      ],
      "execution_count": null,
      "outputs": []
    },
    {
      "cell_type": "code",
      "metadata": {
        "id": "VUT2fN4PnLwg"
      },
      "source": [
        "# Membuat pie chart\n",
        "df[\"Sex\"].value_counts().plot(kind=\"pie\")"
      ],
      "execution_count": null,
      "outputs": []
    },
    {
      "cell_type": "code",
      "metadata": {
        "id": "d4e35M5KXxOE"
      },
      "source": [
        "# Membuat histogram\n",
        "df[\"Age\"].plot(kind=\"hist\")"
      ],
      "execution_count": null,
      "outputs": []
    },
    {
      "cell_type": "code",
      "metadata": {
        "id": "pQlB9bUAYa28"
      },
      "source": [
        "# Membuat box plot\n",
        "df[\"Age\"].plot(kind=\"box\")"
      ],
      "execution_count": null,
      "outputs": []
    },
    {
      "cell_type": "markdown",
      "metadata": {
        "id": "3OPLFMgmKfcF"
      },
      "source": [
        "References:\r\n",
        "- https://pandas.pydata.org/pandas-docs/stable/getting_started/index.html\r\n",
        "- https://www.kaggle.com/learn/pandas"
      ]
    }
  ]
}